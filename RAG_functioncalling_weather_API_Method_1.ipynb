{
  "nbformat": 4,
  "nbformat_minor": 0,
  "metadata": {
    "colab": {
      "provenance": [],
      "include_colab_link": true
    },
    "kernelspec": {
      "name": "python3",
      "display_name": "Python 3"
    },
    "language_info": {
      "name": "python"
    }
  },
  "cells": [
    {
      "cell_type": "markdown",
      "metadata": {
        "id": "view-in-github",
        "colab_type": "text"
      },
      "source": [
        "<a href=\"https://colab.research.google.com/github/Tariqameenkhan/LangChain-Function-Tool-Calling/blob/main/RAG_functioncalling_weather_API_Method_1.ipynb\" target=\"_parent\"><img src=\"https://colab.research.google.com/assets/colab-badge.svg\" alt=\"Open In Colab\"/></a>"
      ]
    },
    {
      "cell_type": "code",
      "execution_count": null,
      "metadata": {
        "id": "ls2PczptYHyR",
        "collapsed": true
      },
      "outputs": [],
      "source": [
        "!pip install langchain langchain_community langchain_google_genai"
      ]
    },
    {
      "cell_type": "code",
      "source": [
        "from google.colab import userdata\n",
        "import os\n",
        "\n",
        "os.environ['GOOGLE_API_KEY'] = userdata.get('GOOGLE_API_KEY')\n",
        "os.environ['weather_API'] = userdata.get('weather_API') # https://www.weatherapi.com/\n"
      ],
      "metadata": {
        "id": "2ME8s4UMYaUP"
      },
      "execution_count": 11,
      "outputs": []
    },
    {
      "cell_type": "code",
      "source": [
        "from langchain_google_genai import ChatGoogleGenerativeAI\n",
        "\n",
        "llm=ChatGoogleGenerativeAI(model='gemini-1.5-flash',verbose=True)"
      ],
      "metadata": {
        "id": "Tpm_a8m5YyQB"
      },
      "execution_count": 12,
      "outputs": []
    },
    {
      "source": [
        "import requests\n",
        "from langchain_core.tools import tool\n",
        "\n",
        "@tool\n",
        "def get_weather(city: str):\n",
        "    \"\"\"Gets the current weather in a given city.\n",
        "\n",
        "    Args:\n",
        "        city: The city to get the weather for.\n",
        "\n",
        "    Returns:\n",
        "        A string describing the weather in the given city.\n",
        "    \"\"\"\n",
        "    api_key = os.environ['weather_API']  # Use environment variable for API key # https://www.weatherapi.com/\n",
        "    url = f\"http://api.weatherapi.com/v1/current.json?key={api_key}&q={city}&aqi=no\"# https://www.weatherapi.com/\n",
        "\n",
        "    response = requests.get(url)\n",
        "    if response.status_code == 200:\n",
        "        data = response.json()\n",
        "        weather = data[\"current\"][\"condition\"][\"text\"]\n",
        "        temperature = data[\"current\"][\"temp_c\"]\n",
        "        return f\"The weather in {city} is {weather} with a temperature of {temperature}°C.\"\n",
        "    else:\n",
        "        return f\"Unable to fetch weather data for {city}. Please check the city name or try again later.\"\n",
        "llm_with_tools = llm.bind_tools([get_weather])"
      ],
      "cell_type": "code",
      "metadata": {
        "id": "x5zHcGClfisE"
      },
      "execution_count": 18,
      "outputs": []
    },
    {
      "cell_type": "code",
      "source": [
        "tools_list=[get_weather]\n",
        "model_with_tools = llm.bind_tools(tools_list)"
      ],
      "metadata": {
        "id": "Kolz6z0jf2nn"
      },
      "execution_count": 21,
      "outputs": []
    },
    {
      "cell_type": "code",
      "source": [
        "from langchain.agents import initialize_agent, AgentType\n",
        "\n",
        "# List of tools\n",
        "tools = [get_weather]\n",
        "\n",
        "# Initialize the agent\n",
        "agent = initialize_agent(\n",
        "    tools=tools,                        # Provide the tools\n",
        "    llm=llm,                            # LLM for fallback\n",
        "    agent=AgentType.ZERO_SHOT_REACT_DESCRIPTION,  # Agent type\n",
        "    # verbose=True                        # Enable debugging output\n",
        ")"
      ],
      "metadata": {
        "id": "kK2ZnPKbgDzj",
        "collapsed": true
      },
      "execution_count": 22,
      "outputs": []
    },
    {
      "cell_type": "code",
      "source": [
        "# Run the agent\n",
        "agent.run(\"What is the weather in rawalpindi?\")"
      ],
      "metadata": {
        "colab": {
          "base_uri": "https://localhost:8080/",
          "height": 36
        },
        "id": "cdGHlHGngd0Q",
        "outputId": "2b54c21c-742c-487d-deda-49dbcb17ab55"
      },
      "execution_count": 25,
      "outputs": [
        {
          "output_type": "execute_result",
          "data": {
            "text/plain": [
              "'The weather in Rawalpindi is Partly Cloudy with a temperature of 18.5°C.'"
            ],
            "application/vnd.google.colaboratory.intrinsic+json": {
              "type": "string"
            }
          },
          "metadata": {},
          "execution_count": 25
        }
      ]
    },
    {
      "cell_type": "code",
      "source": [],
      "metadata": {
        "id": "PVAMBNUOglPI"
      },
      "execution_count": null,
      "outputs": []
    }
  ]
}