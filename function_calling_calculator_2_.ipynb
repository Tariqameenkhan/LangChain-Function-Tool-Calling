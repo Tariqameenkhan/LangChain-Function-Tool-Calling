{
  "nbformat": 4,
  "nbformat_minor": 0,
  "metadata": {
    "colab": {
      "provenance": [],
      "authorship_tag": "ABX9TyNmDyWRMbSn71zeL1u2OpD5",
      "include_colab_link": true
    },
    "kernelspec": {
      "name": "python3",
      "display_name": "Python 3"
    },
    "language_info": {
      "name": "python"
    }
  },
  "cells": [
    {
      "cell_type": "markdown",
      "metadata": {
        "id": "view-in-github",
        "colab_type": "text"
      },
      "source": [
        "<a href=\"https://colab.research.google.com/github/Tariqameenkhan/LangChain-Function-Tool-Calling/blob/main/function_calling_calculator_2_.ipynb\" target=\"_parent\"><img src=\"https://colab.research.google.com/assets/colab-badge.svg\" alt=\"Open In Colab\"/></a>"
      ]
    },
    {
      "cell_type": "code",
      "execution_count": null,
      "metadata": {
        "id": "sHIO8NmgqJfl",
        "collapsed": true
      },
      "outputs": [],
      "source": [
        "!pip install langchain langchain_community langchain_google_genai"
      ]
    },
    {
      "cell_type": "code",
      "source": [
        "from langchain_google_genai import ChatGoogleGenerativeAI\n",
        "from google.colab import userdata\n",
        "import os\n",
        "\n",
        "# Correcting the environment variable assignment\n",
        "Gemini_Api_Key = userdata.get('GOOGLE_API_KEY')\n",
        "os.environ['GOOGLE_API_KEY'] = Gemini_Api_Key"
      ],
      "metadata": {
        "id": "NxfYd42ZqKYQ"
      },
      "execution_count": 22,
      "outputs": []
    },
    {
      "cell_type": "code",
      "source": [
        "# Initialize the language model\n",
        "llm = ChatGoogleGenerativeAI(api_key=Gemini_Api_Key,\n",
        "                             model=\"gemini-1.5-flash\",\n",
        "                             verbose=True)\n"
      ],
      "metadata": {
        "id": "oTdBeLr3qKu1"
      },
      "execution_count": 23,
      "outputs": []
    },
    {
      "cell_type": "code",
      "source": [
        "from langchain.tools import Tool\n",
        "\n",
        "# Define functions for mathematical operations\n",
        "def add(a: int, b: int):\n",
        "    \"\"\"This tool adds two integers.\"\"\"\n",
        "    return a + b\n",
        "\n",
        "def subtract(a: int, b: int):\n",
        "    \"\"\"This tool subtracts the second integer from the first.\"\"\"\n",
        "    return a - b\n",
        "\n",
        "def multiply(a: int, b: int):\n",
        "    \"\"\"This tool multiplies two integers.\"\"\"\n",
        "    return a * b\n",
        "\n",
        "def divide(a: int, b: int):\n",
        "    \"\"\"This tool divides the first integer by the second.\"\"\"\n",
        "    if b == 0:\n",
        "        return \"Division by zero is undefined.\"\n",
        "    return a / b\n"
      ],
      "metadata": {
        "id": "xiuU6Or4qLK9"
      },
      "execution_count": 24,
      "outputs": []
    },
    {
      "cell_type": "code",
      "source": [
        "\n",
        "# Wrapping functions using the Tool class\n",
        "add_tool = Tool(\n",
        "    name=\"add\",\n",
        "    func=lambda x: f\"Addition result: {add(*map(int, x.split()))}\",\n",
        "    description=\"Adds two integers. Input should be two integers separated by a space.\"\n",
        ")\n",
        "\n",
        "subtract_tool = Tool(\n",
        "    name=\"subtract\",\n",
        "    func=lambda x: f\"Subtraction result: {subtract(*map(int, x.split()))}\",\n",
        "    description=\"Subtracts the second integer from the first. Input should be two integers separated by a space.\"\n",
        ")\n",
        "\n",
        "multiply_tool = Tool(\n",
        "    name=\"multiply\",\n",
        "    func=lambda x: f\"Multiplication result: {multiply(*map(int, x.split()))}\",\n",
        "    description=\"Multiplies two integers. Input should be two integers separated by a space.\"\n",
        ")\n",
        "\n",
        "divide_tool = Tool(\n",
        "    name=\"divide\",\n",
        "    func=lambda x: f\"Division result: {divide(*map(int, x.split()))}\",\n",
        "    description=\"Divides the first integer by the second. Input should be two integers separated by a space.\"\n",
        ")\n",
        "\n",
        "# Add all tools to the list\n",
        "tools = [add_tool, subtract_tool, multiply_tool, divide_tool]"
      ],
      "metadata": {
        "id": "SYthhr31kTC-"
      },
      "execution_count": 31,
      "outputs": []
    },
    {
      "cell_type": "code",
      "source": [
        "# Initialize the agent with tools\n",
        "from langchain.agents import initialize_agent, AgentType\n",
        "\n",
        "agent = initialize_agent(\n",
        "    tools=tools,\n",
        "    llm=llm,\n",
        "    agent=AgentType.ZERO_SHOT_REACT_DESCRIPTION,\n",
        "    verbose=True\n",
        ")"
      ],
      "metadata": {
        "id": "S-1JWNDTqLym"
      },
      "execution_count": 32,
      "outputs": []
    },
    {
      "cell_type": "code",
      "source": [
        "# Taking input and running the agent\n",
        "user_input = input(\"Enter an operation and two numbers (e.g., 'add 10 5'): \")\n",
        "response = agent.run(user_input)\n",
        "print(\"Agent Response:\")\n",
        "print(response)"
      ],
      "metadata": {
        "id": "5PMdN74VqMJX",
        "colab": {
          "base_uri": "https://localhost:8080/"
        },
        "collapsed": true,
        "outputId": "6669a4a1-e841-4140-a275-7941c7332de7"
      },
      "execution_count": 36,
      "outputs": [
        {
          "output_type": "stream",
          "name": "stdout",
          "text": [
            "Enter an operation and two numbers (e.g., 'add 10 5'): 33 / 4\n",
            "\n",
            "\n",
            "\u001b[1m> Entering new AgentExecutor chain...\u001b[0m\n",
            "\u001b[32;1m\u001b[1;3mQuestion: 33 / 4\n",
            "Thought: I need to divide 33 by 4.\n",
            "Action: divide\n",
            "Action Input: 33 4\u001b[0m\n",
            "Observation: \u001b[36;1m\u001b[1;3mDivision result: 8.25\u001b[0m\n",
            "Thought:\u001b[32;1m\u001b[1;3mQuestion: 33 / 4\n",
            "Thought: I need to divide 33 by 4.\n",
            "Action: divide\n",
            "Action Input: 33 4\u001b[0m\n",
            "Observation: \u001b[36;1m\u001b[1;3mDivision result: 8.25\u001b[0m\n",
            "Thought:\u001b[32;1m\u001b[1;3mQuestion: 33 / 4\n",
            "Thought: I need to divide 33 by 4.\n",
            "Action: divide\n",
            "Action Input: 33 4\u001b[0m\n",
            "Observation: \u001b[36;1m\u001b[1;3mDivision result: 8.25\u001b[0m\n",
            "Thought:\u001b[32;1m\u001b[1;3mQuestion: 33 / 4\n",
            "Thought: I need to divide 33 by 4.\n",
            "Action: divide\n",
            "Action Input: 33 4\u001b[0m\n",
            "Observation: \u001b[36;1m\u001b[1;3mDivision result: 8.25\u001b[0m\n",
            "Thought:\u001b[32;1m\u001b[1;3mQuestion: 33 / 4\n",
            "Thought: I need to divide 33 by 4.\n",
            "Action: divide\n",
            "Action Input: 33 4\u001b[0m\n",
            "Observation: \u001b[36;1m\u001b[1;3mDivision result: 8.25\u001b[0m\n",
            "Thought:\u001b[32;1m\u001b[1;3mQuestion: 33 / 4\n",
            "Thought: I need to divide 33 by 4.\n",
            "Action: divide\n",
            "Action Input: 33 4\u001b[0m\n",
            "Observation: \u001b[36;1m\u001b[1;3mDivision result: 8.25\u001b[0m\n",
            "Thought:\u001b[32;1m\u001b[1;3mQuestion: 33 / 4\n",
            "Thought: I need to divide 33 by 4.\n",
            "Action: divide\n",
            "Action Input: 33 4\u001b[0m\n",
            "Observation: \u001b[36;1m\u001b[1;3mDivision result: 8.25\u001b[0m\n",
            "Thought:\u001b[32;1m\u001b[1;3mQuestion: 33 / 4\n",
            "Thought: I need to divide 33 by 4.\n",
            "Action: divide\n",
            "Action Input: 33 4\u001b[0m\n",
            "Observation: \u001b[36;1m\u001b[1;3mDivision result: 8.25\u001b[0m\n",
            "Thought:\u001b[32;1m\u001b[1;3mQuestion: 33 / 4\n",
            "Thought: I need to divide 33 by 4.\n",
            "Action: divide\n",
            "Action Input: 33 4\u001b[0m\n",
            "Observation: \u001b[36;1m\u001b[1;3mDivision result: 8.25\u001b[0m\n",
            "Thought:\u001b[32;1m\u001b[1;3mQuestion: 33 / 4\n",
            "Thought: I need to divide 33 by 4.\n",
            "Action: divide\n",
            "Action Input: 33 4\u001b[0m\n",
            "Observation: \u001b[36;1m\u001b[1;3mDivision result: 8.25\u001b[0m\n",
            "Thought:\u001b[32;1m\u001b[1;3mQuestion: 33 / 4\n",
            "Thought: I need to divide 33 by 4.\n",
            "Action: divide\n",
            "Action Input: 33 4\u001b[0m\n",
            "Observation: \u001b[36;1m\u001b[1;3mDivision result: 8.25\u001b[0m\n",
            "Thought:\u001b[32;1m\u001b[1;3mQuestion: 33 / 4\n",
            "Thought: I need to divide 33 by 4.\n",
            "Action: divide\n",
            "Action Input: 33 4\u001b[0m\n",
            "Observation: \u001b[36;1m\u001b[1;3mDivision result: 8.25\u001b[0m\n",
            "Thought:\u001b[32;1m\u001b[1;3mQuestion: 33 / 4\n",
            "Thought: I need to divide 33 by 4.\n",
            "Action: divide\n",
            "Action Input: 33 4\u001b[0m\n",
            "Observation: \u001b[36;1m\u001b[1;3mDivision result: 8.25\u001b[0m\n",
            "Thought:\u001b[32;1m\u001b[1;3mQuestion: 33 / 4\n",
            "Thought: I need to divide 33 by 4.\n",
            "Action: divide\n",
            "Action Input: 33 4\u001b[0m\n",
            "Observation: \u001b[36;1m\u001b[1;3mDivision result: 8.25\u001b[0m\n",
            "Thought:\u001b[32;1m\u001b[1;3mQuestion: 33 / 4\n",
            "Thought: I need to divide 33 by 4.\n",
            "Action: divide\n",
            "Action Input: 33 4\u001b[0m\n",
            "Observation: \u001b[36;1m\u001b[1;3mDivision result: 8.25\u001b[0m\n",
            "Thought:\u001b[32;1m\u001b[1;3m\u001b[0m\n",
            "\n",
            "\u001b[1m> Finished chain.\u001b[0m\n",
            "Agent Response:\n",
            "Agent stopped due to iteration limit or time limit.\n"
          ]
        }
      ]
    }
  ]
}