{
  "cells": [
    {
      "cell_type": "markdown",
      "metadata": {
        "id": "view-in-github",
        "colab_type": "text"
      },
      "source": [
        "<a href=\"https://colab.research.google.com/github/Tariqameenkhan/LangChain-Function-Tool-Calling/blob/main/function_calling_calculator_4_.ipynb\" target=\"_parent\"><img src=\"https://colab.research.google.com/assets/colab-badge.svg\" alt=\"Open In Colab\"/></a>"
      ]
    },
    {
      "cell_type": "code",
      "execution_count": null,
      "metadata": {
        "collapsed": true,
        "id": "sHIO8NmgqJfl"
      },
      "outputs": [],
      "source": [
        "!pip install langchain langchain_community langchain_google_genai"
      ]
    },
    {
      "cell_type": "code",
      "execution_count": 4,
      "metadata": {
        "id": "NxfYd42ZqKYQ"
      },
      "outputs": [],
      "source": [
        "from langchain_google_genai import ChatGoogleGenerativeAI\n",
        "from google.colab import userdata\n",
        "import os\n",
        "\n",
        "# Retrieve API key and check if it exists\n",
        "Gemini_Api_Key = userdata.get('GOOGLE_API_KEY')\n",
        "if not Gemini_Api_Key:\n",
        "    raise ValueError(\"Google API key not found. Please set it in Colab's userdata.\")\n",
        "\n",
        "os.environ['GOOGLE_API_KEY'] = Gemini_Api_Key"
      ]
    },
    {
      "cell_type": "code",
      "execution_count": 5,
      "metadata": {
        "id": "oTdBeLr3qKu1"
      },
      "outputs": [],
      "source": [
        "# Initialize the language model\n",
        "llm = ChatGoogleGenerativeAI(api_key=Gemini_Api_Key,\n",
        "                             model=\"gemini-1.5-flash\",\n",
        "                             verbose=True)\n"
      ]
    },
    {
      "cell_type": "code",
      "execution_count": 6,
      "metadata": {
        "id": "xiuU6Or4qLK9"
      },
      "outputs": [],
      "source": [
        "from langchain_core.tools import tool\n",
        "\n",
        "@tool\n",
        "def add(input_str: str):\n",
        "    \"\"\"Add two numbers. Input should be two integers separated by a space.\"\"\"\n",
        "    try:\n",
        "        a, b = map(int, input_str.split())\n",
        "        return a + b\n",
        "    except ValueError:\n",
        "        return \"Invalid input. Please provide two integers separated by a space.\"\n",
        "\n",
        "@tool\n",
        "def subtract(input_str: str):\n",
        "    \"\"\"Subtract two numbers. Input should be two integers separated by a space.\"\"\"\n",
        "    try:\n",
        "        a, b = map(int, input_str.split())\n",
        "        return a - b\n",
        "    except ValueError:\n",
        "        return \"Invalid input. Please provide two integers separated by a space.\"\n",
        "\n",
        "@tool\n",
        "def multiply(input_str: str):\n",
        "    \"\"\"Multiply two numbers. Input should be two integers separated by a space.\"\"\"\n",
        "    try:\n",
        "        a, b = map(int, input_str.split())\n",
        "        return a * b\n",
        "    except ValueError:\n",
        "        return \"Invalid input. Please provide two integers separated by a space.\"\n",
        "\n",
        "@tool\n",
        "def divide(input_str: str):\n",
        "    \"\"\"Divide two numbers. Input should be two integers separated by a space.\"\"\"\n",
        "    try:\n",
        "        a, b = map(int, input_str.split())\n",
        "        if b == 0:\n",
        "            return \"Division by zero is undefined.\"\n",
        "        return a / b\n",
        "    except ValueError:\n",
        "        return \"Invalid input. Please provide two integers separated by a space.\"\n",
        "\n",
        "# Initialize tools\n",
        "tool_list = [add, subtract, multiply, divide]"
      ]
    },
    {
      "cell_type": "code",
      "execution_count": 7,
      "metadata": {
        "id": "S-1JWNDTqLym",
        "colab": {
          "base_uri": "https://localhost:8080/"
        },
        "outputId": "d4831360-a20b-48f4-ee88-ddd0526d5117"
      },
      "outputs": [
        {
          "output_type": "stream",
          "name": "stderr",
          "text": [
            "<ipython-input-7-098db1611222>:6: LangChainDeprecationWarning: Please see the migration guide at: https://python.langchain.com/docs/versions/migrating_memory/\n",
            "  memory = ConversationBufferMemory(memory_key=\"chat_history\")\n",
            "<ipython-input-7-098db1611222>:9: LangChainDeprecationWarning: LangChain agents will continue to be supported, but it is recommended for new use cases to be built with LangGraph. LangGraph offers a more flexible and full-featured framework for building agents, including support for tool-calling, persistence of state, and human-in-the-loop workflows. For details, refer to the `LangGraph documentation <https://langchain-ai.github.io/langgraph/>`_ as well as guides for `Migrating from AgentExecutor <https://python.langchain.com/docs/how_to/migrate_agent/>`_ and LangGraph's `Pre-built ReAct agent <https://langchain-ai.github.io/langgraph/how-tos/create-react-agent/>`_.\n",
            "  agent = initialize_agent(\n"
          ]
        }
      ],
      "source": [
        "# Import agent-related dependencies\n",
        "from langchain.agents import initialize_agent, AgentType\n",
        "from langchain.memory import ConversationBufferMemory\n",
        "\n",
        "# Initialize memory and set the memory key to \"chat_history\"\n",
        "memory = ConversationBufferMemory(memory_key=\"chat_history\")\n",
        "\n",
        "# Initialize the agent with correct memory configuration\n",
        "agent = initialize_agent(\n",
        "    tools=tool_list,\n",
        "    llm=llm,\n",
        "    # agent=AgentType.ZERO_SHOT_REACT_DESCRIPTION,\n",
        "    agent=AgentType.CONVERSATIONAL_REACT_DESCRIPTION,  # Suitable for conversational tasks\n",
        "    verbose=True,\n",
        "    memory=memory,\n",
        "    handle_parsing_errors=True  # Helps avoid issues with parsing\n",
        ")\n"
      ]
    },
    {
      "cell_type": "code",
      "execution_count": 8,
      "metadata": {
        "colab": {
          "base_uri": "https://localhost:8080/"
        },
        "collapsed": true,
        "id": "5PMdN74VqMJX",
        "outputId": "c7f9c93e-4c31-40ac-a2d8-0f1ed9dd91ac"
      },
      "outputs": [
        {
          "name": "stdout",
          "output_type": "stream",
          "text": [
            "Enter a calculation (e.g., 'Add 50 40') or type 'exit' to quit: 4 - 6\n"
          ]
        },
        {
          "output_type": "stream",
          "name": "stderr",
          "text": [
            "<ipython-input-8-2c70f6054257>:9: LangChainDeprecationWarning: The method `Chain.run` was deprecated in langchain 0.1.0 and will be removed in 1.0. Use :meth:`~invoke` instead.\n",
            "  response = agent.run({\"input\": user_input})\n"
          ]
        },
        {
          "output_type": "stream",
          "name": "stdout",
          "text": [
            "\n",
            "\n",
            "\u001b[1m> Entering new AgentExecutor chain...\u001b[0m\n",
            "\u001b[32;1m\u001b[1;3m```tool_code\n",
            "Thought: Do I need to use a tool? Yes\n",
            "Action: subtract\n",
            "Action Input: 4 6\u001b[0m\n",
            "Observation: \u001b[33;1m\u001b[1;3m-2\u001b[0m\n",
            "Thought:\u001b[32;1m\u001b[1;3mDo I need to use a tool? No\n",
            "AI: The answer is -2.\n",
            "```\u001b[0m\n",
            "\n",
            "\u001b[1m> Finished chain.\u001b[0m\n",
            "Agent Response: The answer is -2.\n",
            "```\n",
            "Enter a calculation (e.g., 'Add 50 40') or type 'exit' to quit: 5/5\n",
            "\n",
            "\n",
            "\u001b[1m> Entering new AgentExecutor chain...\u001b[0m\n",
            "\u001b[32;1m\u001b[1;3m```tool_code\n",
            "Thought: Do I need to use a tool? Yes\n",
            "Action: divide\n",
            "Action Input: 5 5\u001b[0m\n",
            "Observation: \u001b[36;1m\u001b[1;3m1.0\u001b[0m\n",
            "Thought:\u001b[32;1m\u001b[1;3mDo I need to use a tool? No\n",
            "AI: The answer is 1.\n",
            "```\u001b[0m\n",
            "\n",
            "\u001b[1m> Finished chain.\u001b[0m\n",
            "Agent Response: The answer is 1.\n",
            "```\n",
            "Enter a calculation (e.g., 'Add 50 40') or type 'exit' to quit: 6*5\n",
            "\n",
            "\n",
            "\u001b[1m> Entering new AgentExecutor chain...\u001b[0m\n",
            "\u001b[32;1m\u001b[1;3m```tool_code\n",
            "Thought: Do I need to use a tool? Yes\n",
            "Action: multiply\n",
            "Action Input: 6 5\u001b[0m\n",
            "Observation: \u001b[38;5;200m\u001b[1;3m30\u001b[0m\n",
            "Thought:\u001b[32;1m\u001b[1;3mDo I need to use a tool? No\n",
            "AI: The answer is 30.\n",
            "```\u001b[0m\n",
            "\n",
            "\u001b[1m> Finished chain.\u001b[0m\n",
            "Agent Response: The answer is 30.\n",
            "```\n",
            "Enter a calculation (e.g., 'Add 50 40') or type 'exit' to quit: s+d\n",
            "\n",
            "\n",
            "\u001b[1m> Entering new AgentExecutor chain...\u001b[0m\n",
            "\u001b[32;1m\u001b[1;3m```tool_code\n",
            "Thought: Do I need to use a tool? No\n",
            "AI: I cannot perform the calculation \"s+d\" because 's' and 'd' are not defined as numbers. Please provide numerical values.\n",
            "```\u001b[0m\n",
            "\n",
            "\u001b[1m> Finished chain.\u001b[0m\n",
            "Agent Response: I cannot perform the calculation \"s+d\" because 's' and 'd' are not defined as numbers. Please provide numerical values.\n",
            "```\n",
            "Enter a calculation (e.g., 'Add 50 40') or type 'exit' to quit: quit\n",
            "Exiting the calculator. Goodbye!\n"
          ]
        }
      ],
      "source": [
        "# Main loop for user interaction\n",
        "while True:\n",
        "    user_input = input(\"Enter a calculation (e.g., 'Add 50 40') or type 'exit' to quit: \").strip()\n",
        "    if user_input.lower() in ['exit', 'quit']:\n",
        "        print(\"Exiting the calculator. Goodbye!\")\n",
        "        break\n",
        "\n",
        "    # Pass only the user input\n",
        "    response = agent.run({\"input\": user_input})\n",
        "\n",
        "    print(\"Agent Response:\", response)"
      ]
    }
  ],
  "metadata": {
    "colab": {
      "provenance": [],
      "authorship_tag": "ABX9TyN3kAc3pAi9XANiMyOEQIh4",
      "include_colab_link": true
    },
    "kernelspec": {
      "display_name": "Python 3",
      "name": "python3"
    },
    "language_info": {
      "name": "python"
    }
  },
  "nbformat": 4,
  "nbformat_minor": 0
}