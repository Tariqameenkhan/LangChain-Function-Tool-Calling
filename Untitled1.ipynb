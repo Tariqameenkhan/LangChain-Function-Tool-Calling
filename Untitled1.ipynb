{
  "nbformat": 4,
  "nbformat_minor": 0,
  "metadata": {
    "colab": {
      "provenance": [],
      "authorship_tag": "ABX9TyNp/CdTGYdPQFgqpWLZNT0i",
      "include_colab_link": true
    },
    "kernelspec": {
      "name": "python3",
      "display_name": "Python 3"
    },
    "language_info": {
      "name": "python"
    }
  },
  "cells": [
    {
      "cell_type": "markdown",
      "metadata": {
        "id": "view-in-github",
        "colab_type": "text"
      },
      "source": [
        "<a href=\"https://colab.research.google.com/github/Tariqameenkhan/LangChain-Function-Tool-Calling/blob/main/Untitled1.ipynb\" target=\"_parent\"><img src=\"https://colab.research.google.com/assets/colab-badge.svg\" alt=\"Open In Colab\"/></a>"
      ]
    },
    {
      "cell_type": "code",
      "source": [
        "# # Install necessary packages\n",
        "!pip install langchain langchain_community langchain_google_genai"
      ],
      "metadata": {
        "id": "jUfoQ-GGm6t4"
      },
      "execution_count": null,
      "outputs": []
    },
    {
      "cell_type": "code",
      "source": [
        "from langchain_google_genai import ChatGoogleGenerativeAI\n",
        "from google.colab import userdata\n",
        "import os\n",
        "\n",
        "Gemini_Api_Key = userdata.get('GEMINI_API_KEY')\n",
        "os.environ['GEMINI_API_KEY'] = 'GEMINI_API_KEY'\n"
      ],
      "metadata": {
        "id": "mUwGWS5sm_c-"
      },
      "execution_count": null,
      "outputs": []
    },
    {
      "cell_type": "code",
      "source": [
        "llm = ChatGoogleGenerativeAI(api_key=Gemini_Api_Key,model=\"gemini-1.5-flash\",verbose=True)\n",
        "llm, llm.invoke(\"explain ai in 20 words?\")"
      ],
      "metadata": {
        "colab": {
          "base_uri": "https://localhost:8080/"
        },
        "id": "BqQE3cyBn9-a",
        "outputId": "e9a45823-a063-4476-924a-0110d0ac6ce5"
      },
      "execution_count": null,
      "outputs": [
        {
          "output_type": "execute_result",
          "data": {
            "text/plain": [
              "(ChatGoogleGenerativeAI(model='models/gemini-1.5-flash', google_api_key=SecretStr('**********'), client=<google.ai.generativelanguage_v1beta.services.generative_service.client.GenerativeServiceClient object at 0x7a4fd2a91710>, default_metadata=()),\n",
              " AIMessage(content='AI uses computers to mimic human intelligence, learning from data to solve problems and make decisions.', additional_kwargs={}, response_metadata={'prompt_feedback': {'block_reason': 0, 'safety_ratings': []}, 'finish_reason': 'STOP', 'safety_ratings': []}, id='run-30483c30-d874-445f-8cb2-29eb7ca66d99-0', usage_metadata={'input_tokens': 9, 'output_tokens': 19, 'total_tokens': 28, 'input_token_details': {'cache_read': 0}}))"
            ]
          },
          "metadata": {},
          "execution_count": 55
        }
      ]
    },
    {
      "cell_type": "code",
      "source": [
        "from langchain_core.tools import tool\n",
        "\n",
        "@tool\n",
        "def add(a: int, b: int):\n",
        "    \"\"\"This tool adds two integers.\"\"\"\n",
        "    return a + b\n",
        "\n",
        "@tool\n",
        "def subtract(a: int, b: int):\n",
        "    \"\"\"This tool subtracts the second integer from the first.\"\"\"\n",
        "    return a - b\n",
        "\n",
        "@tool\n",
        "def multiply(a: int, b: int):\n",
        "    \"\"\"This tool multiplies two integers.\"\"\"\n",
        "    return a * b\n",
        "\n",
        "@tool\n",
        "def divide(a: int, b: int):\n",
        "    \"\"\"This tool divides the first integer by the second.\"\"\"\n",
        "    if b == 0:\n",
        "        return \"Division by zero is undefined.\"\n",
        "    return a / b\n",
        "\n",
        "tool_list = [add, subtract, multiply, divide]\n",
        "model_with_tool = llm.bind_tools(tool_list)\n"
      ],
      "metadata": {
        "id": "pXy62hRsnNze"
      },
      "execution_count": null,
      "outputs": []
    },
    {
      "cell_type": "code",
      "source": [
        "\n",
        "from langchain.tools import Tool\n",
        "\n",
        "# Wrap tools with descriptions\n",
        "add_tool = Tool(\n",
        "    name=\"add\",\n",
        "    func=lambda x: f\"Addition result: {add(*map(int, x.split()))}\",\n",
        "    description=\"Adds two integers. Input should be two integers separated by a space.\"\n",
        ")\n",
        "\n",
        "subtract_tool = Tool(\n",
        "    name=\"subtract\",\n",
        "    func=lambda x: f\"Subtraction result: {subtract(*map(int, x.split()))}\",\n",
        "    description=\"Subtracts the second integer from the first. Input should be two integers separated by a space.\"\n",
        ")\n",
        "\n",
        "multiply_tool = Tool(\n",
        "    name=\"multiply\",\n",
        "    func=lambda x: f\"Multiplication result: {multiply(*map(int, x.split()))}\",\n",
        "    description=\"Multiplies two integers. Input should be two integers separated by a space.\"\n",
        ")\n",
        "\n",
        "divide_tool = Tool(\n",
        "    name=\"divide\",\n",
        "    func=lambda x: f\"Division result: {divide(*map(int, x.split()))}\",\n",
        "    description=\"Divides the first integer by the second. Input should be two integers separated by a space.\"\n",
        ")\n"
      ],
      "metadata": {
        "id": "F_pDA8NSnYka"
      },
      "execution_count": null,
      "outputs": []
    },
    {
      "cell_type": "code",
      "source": [
        "# Run the agent in a loop\n",
        "while True:\n",
        "    user_input = input(\"Enter a calculation (e.g., 'Add 50 40') or type 'exit' to quit: \").strip()\n",
        "    if user_input.lower() in ['exit', 'quit']:\n",
        "        print(\"Exiting the calculator. Goodbye!\")\n",
        "        break\n",
        "\n",
        "    response = agent.run(user_input)\n",
        "    print(\"Agent Response:\", response)\n"
      ],
      "metadata": {
        "id": "N-iD5LM1nlCC"
      },
      "execution_count": null,
      "outputs": []
    },
    {
      "cell_type": "code",
      "source": [
        "# # Install necessary packages\n",
        "# !pip install langchain langchain_community langchain_google_genai\n",
        "\n",
        "from langchain_google_genai import ChatGoogleGenerativeAI\n",
        "from google.colab import userdata\n",
        "import os\n",
        "\n",
        "# Set up the Gemini API Key\n",
        "Gemini_Api_Key = userdata.get('GEMINI_API_KEY')\n",
        "os.environ['GEMINI_API_KEY'] = 'GEMINI_API_KEY'\n",
        "\n",
        "llm = ChatGoogleGenerativeAI(api_key=Gemini_Api_Key,\n",
        "                             model=\"gemini-1.5-flash\",\n",
        "                             verbose=True)\n",
        "\n",
        "from langchain_core.tools import tool\n",
        "\n",
        "@tool\n",
        "def add(input_str: str):\n",
        "    \"\"\"Add two numbers. Input should be two integers separated by a space.\"\"\"\n",
        "    try:\n",
        "        a, b = map(int, input_str.split())\n",
        "        return a + b\n",
        "    except ValueError:\n",
        "        return \"Invalid input. Please provide two integers separated by a space.\"\n",
        "\n",
        "@tool\n",
        "def subtract(input_str: str):\n",
        "    \"\"\"Subtract two numbers. Input should be two integers separated by a space.\"\"\"\n",
        "    try:\n",
        "        a, b = map(int, input_str.split())\n",
        "        return a - b\n",
        "    except ValueError:\n",
        "        return \"Invalid input. Please provide two integers separated by a space.\"\n",
        "\n",
        "@tool\n",
        "def multiply(input_str: str):\n",
        "    \"\"\"Multiply two numbers. Input should be two integers separated by a space.\"\"\"\n",
        "    try:\n",
        "        a, b = map(int, input_str.split())\n",
        "        return a * b\n",
        "    except ValueError:\n",
        "        return \"Invalid input. Please provide two integers separated by a space.\"\n",
        "\n",
        "@tool\n",
        "def divide(input_str: str):\n",
        "    \"\"\"Divide two numbers. Input should be two integers separated by a space.\"\"\"\n",
        "    try:\n",
        "        a, b = map(int, input_str.split())\n",
        "        if b == 0:\n",
        "            return \"Division by zero is undefined.\"\n",
        "        return a / b\n",
        "    except ValueError:\n",
        "        return \"Invalid input. Please provide two integers separated by a space.\"\n",
        "\n",
        "# Initialize tools\n",
        "tool_list = [add, subtract, multiply, divide]\n",
        "\n",
        "# Initialize the agent\n",
        "from langchain.agents import initialize_agent, AgentType\n",
        "\n",
        "agent = initialize_agent(\n",
        "    tools=tool_list,\n",
        "    llm=llm,\n",
        "    agent=AgentType.ZERO_SHOT_REACT_DESCRIPTION,\n",
        "    verbose=True\n",
        ")\n",
        "\n",
        "# Main loop for user interaction\n",
        "while True:\n",
        "    user_input = input(\"Enter a calculation (e.g., 'Add 50 40') or type 'exit' to quit: \").strip()\n",
        "    if user_input.lower() in ['exit', 'quit']:\n",
        "        print(\"Exiting the calculator. Goodbye!\")\n",
        "        break\n",
        "\n",
        "    try:\n",
        "        response = agent.run(user_input)\n",
        "        print(\"Agent Response:\", response)\n",
        "    except Exception as e:\n",
        "        print(f\"An error occurred: {e}\")\n"
      ],
      "metadata": {
        "colab": {
          "base_uri": "https://localhost:8080/"
        },
        "id": "Nd0KOLA5weIz",
        "outputId": "170577db-52f0-4873-f0fb-6f8966e90c23"
      },
      "execution_count": null,
      "outputs": [
        {
          "output_type": "stream",
          "name": "stdout",
          "text": [
            "Enter a calculation (e.g., 'Add 50 40') or type 'exit' to quit: 12 + \n",
            "\n",
            "\n",
            "\u001b[1m> Entering new AgentExecutor chain...\u001b[0m\n",
            "\u001b[32;1m\u001b[1;3mThe question is incomplete.  It needs a second number to perform addition.  I cannot answer without a complete question.\n",
            "Final Answer: Cannot answer due to incomplete question.\u001b[0m\n",
            "\n",
            "\u001b[1m> Finished chain.\u001b[0m\n",
            "Agent Response: Cannot answer due to incomplete question.\n",
            "Enter a calculation (e.g., 'Add 50 40') or type 'exit' to quit: 12 + 3\n",
            "\n",
            "\n",
            "\u001b[1m> Entering new AgentExecutor chain...\u001b[0m\n",
            "\u001b[32;1m\u001b[1;3mQuestion: 12 + 3\n",
            "Thought: This is an addition problem. I will use the `add` function.\n",
            "Action: add\n",
            "Action Input: 12 3\u001b[0m\n",
            "Observation: \u001b[36;1m\u001b[1;3m15\u001b[0m\n",
            "Thought:\u001b[32;1m\u001b[1;3mQuestion: 12 + 3\n",
            "Thought: This is an addition problem. I will use the `add` function.\n",
            "Action: add\n",
            "Action Input: 12 3\u001b[0m\n",
            "Observation: \u001b[36;1m\u001b[1;3m15\u001b[0m\n",
            "Thought:\u001b[32;1m\u001b[1;3mQuestion: 12 + 3\n",
            "Thought: This is an addition problem. I will use the `add` function.\n",
            "Action: add\n",
            "Action Input: 12 3\u001b[0m\n",
            "Observation: \u001b[36;1m\u001b[1;3m15\u001b[0m\n",
            "Thought:\u001b[32;1m\u001b[1;3mQuestion: 12 + 3\n",
            "Thought: This is an addition problem. I will use the `add` function.\n",
            "Action: add\n",
            "Action Input: 12 3\u001b[0m\n",
            "Observation: \u001b[36;1m\u001b[1;3m15\u001b[0m\n",
            "Thought:\u001b[32;1m\u001b[1;3mQuestion: 12 + 3\n",
            "Thought: This is an addition problem. I will use the `add` function.\n",
            "Action: add\n",
            "Action Input: 12 3\u001b[0m\n",
            "Observation: \u001b[36;1m\u001b[1;3m15\u001b[0m\n",
            "Thought:\u001b[32;1m\u001b[1;3mQuestion: 12 + 3\n",
            "Thought: This is an addition problem. I will use the `add` function.\n",
            "Action: add\n",
            "Action Input: 12 3\u001b[0m\n",
            "Observation: \u001b[36;1m\u001b[1;3m15\u001b[0m\n",
            "Thought:\u001b[32;1m\u001b[1;3mQuestion: 12 + 3\n",
            "Thought: This is an addition problem. I will use the `add` function.\n",
            "Action: add\n",
            "Action Input: 12 3\u001b[0m\n",
            "Observation: \u001b[36;1m\u001b[1;3m15\u001b[0m\n",
            "Thought:\u001b[32;1m\u001b[1;3mQuestion: 12 + 3\n",
            "Thought: This is an addition problem. I will use the `add` function.\n",
            "Action: add\n",
            "Action Input: 12 3\u001b[0m\n",
            "Observation: \u001b[36;1m\u001b[1;3m15\u001b[0m\n",
            "Thought:\u001b[32;1m\u001b[1;3mQuestion: 12 + 3\n",
            "Thought: This is an addition problem. I will use the `add` function.\n",
            "Action: add\n",
            "Action Input: 12 3\u001b[0m\n",
            "Observation: \u001b[36;1m\u001b[1;3m15\u001b[0m\n",
            "Thought:\u001b[32;1m\u001b[1;3mQuestion: 12 + 3\n",
            "Thought: This is an addition problem. I will use the `add` function.\n",
            "Action: add\n",
            "Action Input: 12 3\u001b[0m\n",
            "Observation: \u001b[36;1m\u001b[1;3m15\u001b[0m\n",
            "Thought:\u001b[32;1m\u001b[1;3mQuestion: 12 + 3\n",
            "Thought: This is an addition problem. I will use the `add` function.\n",
            "Action: add\n",
            "Action Input: 12 3\u001b[0m\n",
            "Observation: \u001b[36;1m\u001b[1;3m15\u001b[0m\n",
            "Thought:\u001b[32;1m\u001b[1;3mQuestion: 12 + 3\n",
            "Thought: This is an addition problem. I will use the `add` function.\n",
            "Action: add\n",
            "Action Input: 12 3\u001b[0m\n",
            "Observation: \u001b[36;1m\u001b[1;3m15\u001b[0m\n",
            "Thought:\u001b[32;1m\u001b[1;3mQuestion: 12 + 3\n",
            "Thought: This is an addition problem. I will use the `add` function.\n",
            "Action: add\n",
            "Action Input: 12 3\u001b[0m\n",
            "Observation: \u001b[36;1m\u001b[1;3m15\u001b[0m\n",
            "Thought:\u001b[32;1m\u001b[1;3mQuestion: 12 + 3\n",
            "Thought: This is an addition problem. I will use the `add` function.\n",
            "Action: add\n",
            "Action Input: 12 3\u001b[0m\n",
            "Observation: \u001b[36;1m\u001b[1;3m15\u001b[0m\n",
            "Thought:\u001b[32;1m\u001b[1;3mQuestion: 12 + 3\n",
            "Thought: This is an addition problem. I will use the `add` function.\n",
            "Action: add\n",
            "Action Input: 12 3\u001b[0m\n",
            "Observation: \u001b[36;1m\u001b[1;3m15\u001b[0m\n",
            "Thought:\u001b[32;1m\u001b[1;3m\u001b[0m\n",
            "\n",
            "\u001b[1m> Finished chain.\u001b[0m\n",
            "Agent Response: Agent stopped due to iteration limit or time limit.\n",
            "Enter a calculation (e.g., 'Add 50 40') or type 'exit' to quit: quit\n",
            "Exiting the calculator. Goodbye!\n"
          ]
        }
      ]
    }
  ]
}