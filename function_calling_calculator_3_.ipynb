{
  "nbformat": 4,
  "nbformat_minor": 0,
  "metadata": {
    "colab": {
      "provenance": [],
      "authorship_tag": "ABX9TyN1M82nhyiflaGTVAVu+2E6",
      "include_colab_link": true
    },
    "kernelspec": {
      "name": "python3",
      "display_name": "Python 3"
    },
    "language_info": {
      "name": "python"
    }
  },
  "cells": [
    {
      "cell_type": "markdown",
      "metadata": {
        "id": "view-in-github",
        "colab_type": "text"
      },
      "source": [
        "<a href=\"https://colab.research.google.com/github/Tariqameenkhan/LangChain-Function-Tool-Calling/blob/main/function_calling_calculator_3_.ipynb\" target=\"_parent\"><img src=\"https://colab.research.google.com/assets/colab-badge.svg\" alt=\"Open In Colab\"/></a>"
      ]
    },
    {
      "cell_type": "code",
      "execution_count": null,
      "metadata": {
        "id": "sHIO8NmgqJfl",
        "collapsed": true
      },
      "outputs": [],
      "source": [
        "!pip install langchain langchain_community langchain_google_genai"
      ]
    },
    {
      "cell_type": "code",
      "source": [
        "from langchain_google_genai import ChatGoogleGenerativeAI\n",
        "from google.colab import userdata\n",
        "import os\n",
        "\n",
        "# Correcting the environment variable assignment\n",
        "Gemini_Api_Key = userdata.get('GOOGLE_API_KEY')\n",
        "os.environ['GOOGLE_API_KEY'] = Gemini_Api_Key"
      ],
      "metadata": {
        "id": "NxfYd42ZqKYQ"
      },
      "execution_count": 22,
      "outputs": []
    },
    {
      "cell_type": "code",
      "source": [
        "# Initialize the language model\n",
        "llm = ChatGoogleGenerativeAI(api_key=Gemini_Api_Key,\n",
        "                             model=\"gemini-1.5-flash\",\n",
        "                             verbose=True)\n"
      ],
      "metadata": {
        "id": "oTdBeLr3qKu1"
      },
      "execution_count": 23,
      "outputs": []
    },
    {
      "cell_type": "code",
      "source": [
        "from langchain.tools import Tool\n",
        "\n",
        "# Define calculation functions\n",
        "def add(a: int, b: int):\n",
        "    return a + b\n",
        "\n",
        "def subtract(a: int, b: int):\n",
        "    return a - b\n",
        "\n",
        "def multiply(a: int, b: int):\n",
        "    return a * b\n",
        "\n",
        "def divide(a: int, b: int):\n",
        "    if b == 0:\n",
        "        return \"Error: Division by zero is not allowed.\"\n",
        "    return a / b\n"
      ],
      "metadata": {
        "id": "xiuU6Or4qLK9"
      },
      "execution_count": 37,
      "outputs": []
    },
    {
      "cell_type": "code",
      "source": [
        "# Define tools with correct input parsing\n",
        "add_tool = Tool(\n",
        "    name=\"add\",\n",
        "    func=lambda x: f\"{add(*map(int, x.split()))}\",\n",
        "    description=\"Adds two integers. Input format: 'a b'\"\n",
        ")\n",
        "\n",
        "subtract_tool = Tool(\n",
        "    name=\"subtract\",\n",
        "    func=lambda x: f\"{subtract(*map(int, x.split()))}\",\n",
        "    description=\"Subtracts the second integer from the first. Input format: 'a b'\"\n",
        ")\n",
        "\n",
        "multiply_tool = Tool(\n",
        "    name=\"multiply\",\n",
        "    func=lambda x: f\"{multiply(*map(int, x.split()))}\",\n",
        "    description=\"Multiplies two integers. Input format: 'a b'\"\n",
        ")\n",
        "\n",
        "divide_tool = Tool(\n",
        "    name=\"divide\",\n",
        "    func=lambda x: f\"{divide(*map(int, x.split()))}\",\n",
        "    description=\"Divides the first integer by the second. Input format: 'a b'\"\n",
        ")\n",
        "\n",
        "# List of tools\n",
        "tools = [add_tool, subtract_tool, multiply_tool, divide_tool]"
      ],
      "metadata": {
        "id": "SYthhr31kTC-"
      },
      "execution_count": 38,
      "outputs": []
    },
    {
      "cell_type": "code",
      "source": [
        "# Initialize the agent with better configuration\n",
        "from langchain.agents import initialize_agent, AgentType\n",
        "\n",
        "agent = initialize_agent(\n",
        "    tools=tools,\n",
        "    llm=llm,\n",
        "    # agent=AgentType.ZERO_SHOT_REACT_DESCRIPTION\n",
        "    agent=AgentType.CONVERSATIONAL_REACT_DESCRIPTION,  # More suitable for simple tasks\n",
        "    verbose=True\n",
        ")"
      ],
      "metadata": {
        "id": "S-1JWNDTqLym"
      },
      "execution_count": 39,
      "outputs": []
    },
    {
      "cell_type": "code",
      "source": [
        "# Improved user input handling\n",
        "user_input = input(\"Enter an operation and two numbers (e.g., 'add 33 4'): \")\n",
        "# Initialize chat history as an empty list\n",
        "chat_history = []\n",
        "# Pass user input and chat history as a dictionary\n",
        "response = agent.run({\"input\": user_input, \"chat_history\": chat_history})\n",
        "print(\"Agent Response:\", response)"
      ],
      "metadata": {
        "id": "5PMdN74VqMJX",
        "colab": {
          "base_uri": "https://localhost:8080/"
        },
        "collapsed": true,
        "outputId": "0c5dc017-6df2-4112-f92a-47c1ac1d25e4"
      },
      "execution_count": 43,
      "outputs": [
        {
          "output_type": "stream",
          "name": "stdout",
          "text": [
            "Enter an operation and two numbers (e.g., 'add 33 4'): add 3 5\n",
            "\n",
            "\n",
            "\u001b[1m> Entering new AgentExecutor chain...\u001b[0m\n",
            "\u001b[32;1m\u001b[1;3m```tool_code\n",
            "Thought: Do I need to use a tool? Yes\n",
            "Action: add\n",
            "Action Input: 3 5\u001b[0m\n",
            "Observation: \u001b[36;1m\u001b[1;3m8\u001b[0m\n",
            "Thought:\u001b[32;1m\u001b[1;3mDo I need to use a tool? No\n",
            "AI: The sum of 3 and 5 is 8.\n",
            "```\u001b[0m\n",
            "\n",
            "\u001b[1m> Finished chain.\u001b[0m\n",
            "Agent Response: The sum of 3 and 5 is 8.\n",
            "```\n"
          ]
        }
      ]
    }
  ]
}