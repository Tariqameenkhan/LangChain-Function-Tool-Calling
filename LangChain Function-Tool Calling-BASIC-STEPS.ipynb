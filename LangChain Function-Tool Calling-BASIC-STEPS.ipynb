{
  "nbformat": 4,
  "nbformat_minor": 0,
  "metadata": {
    "colab": {
      "provenance": [],
      "include_colab_link": true
    },
    "kernelspec": {
      "name": "python3",
      "display_name": "Python 3"
    },
    "language_info": {
      "name": "python"
    }
  },
  "cells": [
    {
      "cell_type": "markdown",
      "metadata": {
        "id": "view-in-github",
        "colab_type": "text"
      },
      "source": [
        "<a href=\"https://colab.research.google.com/github/Tariqameenkhan/LangChain-Function-Tool-Calling/blob/main/LangChain%20Function-Tool%20Calling-BASIC-STEPS.ipynb\" target=\"_parent\"><img src=\"https://colab.research.google.com/assets/colab-badge.svg\" alt=\"Open In Colab\"/></a>"
      ]
    },
    {
      "cell_type": "code",
      "execution_count": null,
      "metadata": {
        "collapsed": true,
        "id": "RB7b-Tpt1nCu"
      },
      "outputs": [],
      "source": [
        "!pip install langchain langchain-community langchain-google-genai"
      ]
    },
    {
      "cell_type": "code",
      "source": [
        "from langchain_google_genai import ChatGoogleGenerativeAI\n",
        "from google.colab import userdata\n",
        "GEMINI_API_KEY = userdata.get('new_api_key')"
      ],
      "metadata": {
        "id": "p1vuOlnM3TAW"
      },
      "execution_count": null,
      "outputs": []
    },
    {
      "cell_type": "code",
      "source": [
        "llm = ChatGoogleGenerativeAI(api_key =GEMINI_API_KEY, model= \"gemini-1.5-flash\" , verbose=True)\n",
        "llm.invoke(\"explain ai in 20 words\")"
      ],
      "metadata": {
        "id": "ay79NUM-8Bdq",
        "colab": {
          "base_uri": "https://localhost:8080/"
        },
        "outputId": "e8b430dc-e442-448e-ff67-64623ffc7993"
      },
      "execution_count": null,
      "outputs": [
        {
          "output_type": "execute_result",
          "data": {
            "text/plain": [
              "AIMessage(content='AI uses computers to mimic human intelligence, learning from data to solve problems and make decisions.', additional_kwargs={}, response_metadata={'prompt_feedback': {'block_reason': 0, 'safety_ratings': []}, 'finish_reason': 'STOP', 'safety_ratings': []}, id='run-568d03ce-0432-4a6a-9610-551a7ae8d01f-0', usage_metadata={'input_tokens': 7, 'output_tokens': 19, 'total_tokens': 26, 'input_token_details': {'cache_read': 0}})"
            ]
          },
          "metadata": {},
          "execution_count": 4
        }
      ]
    },
    {
      "cell_type": "code",
      "source": [
        "from langchain_core.tools import tool\n",
        "\n",
        "@tool\n",
        "def add(a : int , b : int):\n",
        "  \"\"\"Add a and b\n",
        "  Args:\n",
        "  a : a is first int\n",
        "  b : b is second int\n",
        "  \"\"\"\n",
        "  return a + b\n",
        "\n",
        "llm_with_tools = llm.bind_tools([add])"
      ],
      "metadata": {
        "id": "X8dOB6WdFoj1"
      },
      "execution_count": null,
      "outputs": []
    },
    {
      "cell_type": "code",
      "source": [
        "tool_list = [add]\n",
        "model_with_tools = llm.bind_tools(tool_list)"
      ],
      "metadata": {
        "id": "Ualbp-eKJjbp"
      },
      "execution_count": null,
      "outputs": []
    },
    {
      "cell_type": "code",
      "source": [
        "result = model_with_tools.invoke('add 2 and 5')\n",
        "print(result)"
      ],
      "metadata": {
        "colab": {
          "base_uri": "https://localhost:8080/"
        },
        "id": "OEIeiSwCJ6iU",
        "outputId": "9dff0f24-7fe7-4fbf-e937-fddc44f1891b"
      },
      "execution_count": null,
      "outputs": [
        {
          "output_type": "stream",
          "name": "stdout",
          "text": [
            "content='' additional_kwargs={'function_call': {'name': 'add', 'arguments': '{\"a\": 2.0, \"b\": 5.0}'}} response_metadata={'prompt_feedback': {'block_reason': 0, 'safety_ratings': []}, 'finish_reason': 'STOP', 'safety_ratings': []} id='run-19f4661c-ab54-45c7-9e97-6deb5e7a4d26-0' tool_calls=[{'name': 'add', 'args': {'a': 2.0, 'b': 5.0}, 'id': '264a4a25-0ffc-4efb-9700-3b4858685228', 'type': 'tool_call'}] usage_metadata={'input_tokens': 72, 'output_tokens': 3, 'total_tokens': 75, 'input_token_details': {'cache_read': 0}}\n"
          ]
        }
      ]
    },
    {
      "cell_type": "code",
      "source": [
        "from langchain.tools import Tool\n",
        "\n",
        "def add(a , b):\n",
        "  return a + b\n",
        "\n",
        "math_tool = Tool(\n",
        "    name=\"add\",\n",
        "    func=lambda x: f\"The result is: {add(*map(int, x.split()))}\",\n",
        "    description=\"Adds two numbers. Input should be two integers separated by a space.\"\n",
        ")"
      ],
      "metadata": {
        "id": "k1eYKmz8MM4F"
      },
      "execution_count": null,
      "outputs": []
    },
    {
      "cell_type": "code",
      "source": [
        "from langchain.agents import initialize_agent, AgentType\n",
        "\n",
        "tools = [math_tool]\n",
        "\n",
        "agent = initialize_agent(\n",
        "    tools= tools,\n",
        "    llm = llm,\n",
        "    agent = AgentType.ZERO_SHOT_REACT_DESCRIPTION,\n",
        "    verbose= True\n",
        ")"
      ],
      "metadata": {
        "id": "rYoJ4B6TNMwe",
        "colab": {
          "base_uri": "https://localhost:8080/"
        },
        "outputId": "b7a716b3-9a82-4ce5-e3ea-0a6fe5514a8f"
      },
      "execution_count": null,
      "outputs": [
        {
          "output_type": "stream",
          "name": "stderr",
          "text": [
            "<ipython-input-11-6f3d9324b8af>:5: LangChainDeprecationWarning: LangChain agents will continue to be supported, but it is recommended for new use cases to be built with LangGraph. LangGraph offers a more flexible and full-featured framework for building agents, including support for tool-calling, persistence of state, and human-in-the-loop workflows. For details, refer to the `LangGraph documentation <https://langchain-ai.github.io/langgraph/>`_ as well as guides for `Migrating from AgentExecutor <https://python.langchain.com/docs/how_to/migrate_agent/>`_ and LangGraph's `Pre-built ReAct agent <https://langchain-ai.github.io/langgraph/how-tos/create-react-agent/>`_.\n",
            "  agent = initialize_agent(\n"
          ]
        }
      ]
    },
    {
      "cell_type": "code",
      "source": [
        "response = agent.run(\"add 50 and 40 \")\n",
        "print(response)"
      ],
      "metadata": {
        "colab": {
          "base_uri": "https://localhost:8080/",
          "height": 1000
        },
        "id": "lqkyDnwVNeZF",
        "outputId": "ac9cda43-2a60-4bb3-f0fd-600601ef8b13",
        "collapsed": true
      },
      "execution_count": null,
      "outputs": [
        {
          "output_type": "stream",
          "name": "stdout",
          "text": [
            "\n",
            "\n",
            "\u001b[1m> Entering new AgentExecutor chain...\u001b[0m\n",
            "\u001b[32;1m\u001b[1;3mThought: I need to use the add function to add 50 and 40.\n",
            "Action: add\n",
            "Action Input: 50 40\u001b[0m\n",
            "Observation: \u001b[36;1m\u001b[1;3mThe result is: 90\u001b[0m\n",
            "Thought:\u001b[32;1m\u001b[1;3mQuestion: add 50 and 40 \n",
            "Thought: I need to use the add function to add 50 and 40.\n",
            "Action: add\n",
            "Action Input: 50 40\u001b[0m\n",
            "Observation: \u001b[36;1m\u001b[1;3mThe result is: 90\u001b[0m\n",
            "Thought:\u001b[32;1m\u001b[1;3mQuestion: add 50 and 40 \n",
            "Thought: I need to use the add function to add 50 and 40.\n",
            "Action: add\n",
            "Action Input: 50 40\u001b[0m\n",
            "Observation: \u001b[36;1m\u001b[1;3mThe result is: 90\u001b[0m\n",
            "Thought:\u001b[32;1m\u001b[1;3mQuestion: add 50 and 40\n",
            "Thought: I need to use the add function to add 50 and 40.\n",
            "Action: add\n",
            "Action Input: 50 40\u001b[0m\n",
            "Observation: \u001b[36;1m\u001b[1;3mThe result is: 90\u001b[0m\n",
            "Thought:\u001b[32;1m\u001b[1;3mQuestion: add 50 and 40\n",
            "Thought: I need to use the add function to add 50 and 40.\n",
            "Action: add\n",
            "Action Input: 50 40\u001b[0m\n",
            "Observation: \u001b[36;1m\u001b[1;3mThe result is: 90\u001b[0m\n",
            "Thought:\u001b[32;1m\u001b[1;3mQuestion: add 50 and 40\n",
            "Thought: I need to use the add function to add 50 and 40.\n",
            "Action: add\n",
            "Action Input: 50 40\u001b[0m\n",
            "Observation: \u001b[36;1m\u001b[1;3mThe result is: 90\u001b[0m\n",
            "Thought:\u001b[32;1m\u001b[1;3mQuestion: add 50 and 40\n",
            "Thought: I need to use the add function to add 50 and 40.\n",
            "Action: add\n",
            "Action Input: 50 40\u001b[0m\n",
            "Observation: \u001b[36;1m\u001b[1;3mThe result is: 90\u001b[0m\n",
            "Thought:\u001b[32;1m\u001b[1;3mQuestion: add 50 and 40\n",
            "Thought: I need to use the add function to add 50 and 40.\n",
            "Action: add\n",
            "Action Input: 50 40\u001b[0m\n",
            "Observation: \u001b[36;1m\u001b[1;3mThe result is: 90\u001b[0m\n",
            "Thought:\u001b[32;1m\u001b[1;3mQuestion: add 50 and 40\n",
            "Thought: I need to use the add function to add 50 and 40.\n",
            "Action: add\n",
            "Action Input: 50 40\u001b[0m\n",
            "Observation: \u001b[36;1m\u001b[1;3mThe result is: 90\u001b[0m\n",
            "Thought:\u001b[32;1m\u001b[1;3mQuestion: add 50 and 40\n",
            "Thought: I need to use the add function to add 50 and 40.\n",
            "Action: add\n",
            "Action Input: 50 40\u001b[0m\n",
            "Observation: \u001b[36;1m\u001b[1;3mThe result is: 90\u001b[0m\n",
            "Thought:\u001b[32;1m\u001b[1;3mQuestion: add 50 and 40\n",
            "Thought: I need to use the add function to add 50 and 40.\n",
            "Action: add\n",
            "Action Input: 50 40\u001b[0m\n",
            "Observation: \u001b[36;1m\u001b[1;3mThe result is: 90\u001b[0m\n",
            "Thought:\u001b[32;1m\u001b[1;3mThought: I need to use the add function to add 50 and 40.\n",
            "Action: add\n",
            "Action Input: 50 40\u001b[0m\n",
            "Observation: \u001b[36;1m\u001b[1;3mThe result is: 90\u001b[0m\n",
            "Thought:\u001b[32;1m\u001b[1;3mThought: I need to use the add function to add 50 and 40.\n",
            "Action: add\n",
            "Action Input: 50 40\u001b[0m\n",
            "Observation: \u001b[36;1m\u001b[1;3mThe result is: 90\u001b[0m\n",
            "Thought:\u001b[32;1m\u001b[1;3mThought: I need to use the add function to add 50 and 40.\n",
            "Action: add\n",
            "Action Input: 50 40\u001b[0m\n",
            "Observation: \u001b[36;1m\u001b[1;3mThe result is: 90\u001b[0m\n",
            "Thought:\u001b[32;1m\u001b[1;3mQuestion: add 50 and 40\n",
            "Thought: I need to use the add function to add 50 and 40.\n",
            "Action: add\n",
            "Action Input: 50 40\u001b[0m\n",
            "Observation: \u001b[36;1m\u001b[1;3mThe result is: 90\u001b[0m\n",
            "Thought:\u001b[32;1m\u001b[1;3m\u001b[0m\n",
            "\n",
            "\u001b[1m> Finished chain.\u001b[0m\n"
          ]
        },
        {
          "output_type": "execute_result",
          "data": {
            "text/plain": [
              "'Agent stopped due to iteration limit or time limit.'"
            ],
            "application/vnd.google.colaboratory.intrinsic+json": {
              "type": "string"
            }
          },
          "metadata": {},
          "execution_count": 15
        }
      ]
    }
  ]
}